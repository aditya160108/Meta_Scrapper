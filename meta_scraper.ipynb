{
  "nbformat": 4,
  "nbformat_minor": 0,
  "metadata": {
    "colab": {
      "provenance": [],
      "authorship_tag": "ABX9TyNC/vCXT8mspgpy3/hQNmWo",
      "include_colab_link": true
    },
    "kernelspec": {
      "name": "python3",
      "display_name": "Python 3"
    },
    "language_info": {
      "name": "python"
    }
  },
  "cells": [
    {
      "cell_type": "markdown",
      "metadata": {
        "id": "view-in-github",
        "colab_type": "text"
      },
      "source": [
        "<a href=\"https://colab.research.google.com/github/aditya160108/Meta_Scrapper/blob/main/meta_scraper.ipynb\" target=\"_parent\"><img src=\"https://colab.research.google.com/assets/colab-badge.svg\" alt=\"Open In Colab\"/></a>"
      ]
    },
    {
      "cell_type": "code",
      "execution_count": null,
      "metadata": {
        "id": "nj5Diit4yRKX"
      },
      "outputs": [],
      "source": [
        "import requests\n",
        "from bs4 import BeautifulSoup\n",
        "from google.colab import files\n",
        "import pandas as pd\n",
        "import datetime\n",
        "\n",
        "def scrape_metadata(url):\n",
        "    try:\n",
        "        response = requests.get(url)\n",
        "        response.raise_for_status()\n",
        "\n",
        "        soup = BeautifulSoup(response.content, 'html.parser')\n",
        "\n",
        "        #title = soup.find('title').text if soup.title else None\n",
        "        title_tag = soup.find('title')\n",
        "        title = title_tag.text.strip() if title_tag else None\n",
        "\n",
        "#        meta_title_tag = soup.find('meta', attrs={'name': 'Title'})\n",
        "#        meta_title = meta_title_tag['content'] if meta_title_tag and 'content' in meta_title_tag.attrs else None\n",
        "\n",
        "        description_tag = soup.find('meta', attrs={'name': 'description'})\n",
        "        description = description_tag['content'] if description_tag and 'content' in description_tag.attrs else None\n",
        "\n",
        "        keywords_tag = soup.find('meta', attrs={'name': 'keywords'})\n",
        "        keywords = keywords_tag['content'] if keywords_tag and 'content' in keywords_tag.attrs else None\n",
        "\n",
        "        return title, description, keywords\n",
        "\n",
        "    except requests.exceptions.RequestException as e:\n",
        "        print(f\"Error fetching URL: {e}\")\n",
        "        return None, None, None\n",
        "\n",
        "urls = input(\"Enter multiple URLs separated by commas: \").split(\",\")\n",
        "\n",
        "data = []\n",
        "\n",
        "for url in urls:\n",
        "    title, description, keywords = scrape_metadata(url.strip())\n",
        "    data.append({'URL': url, 'Title': title, 'Description': description, 'Keywords': keywords})\n",
        "\n",
        "now = datetime.datetime.now()\n",
        "now_str = now.strftime(\"%Y%m%d_%H%M%S\")\n",
        "filename = f\"scraped_metadata_{now_str}.xlsx\"\n",
        "\n",
        "df = pd.DataFrame(data)\n",
        "\n",
        "df.to_excel(filename, index=False)\n",
        "files.download(filename)"
      ]
    }
  ]
}